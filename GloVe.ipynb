{
  "nbformat": 4,
  "nbformat_minor": 0,
  "metadata": {
    "colab": {
      "name": "GloVe.ipynb",
      "version": "0.3.2",
      "provenance": [],
      "collapsed_sections": [],
      "include_colab_link": true
    },
    "kernelspec": {
      "name": "python3",
      "display_name": "Python 3"
    },
    "accelerator": "TPU"
  },
  "cells": [
    {
      "cell_type": "markdown",
      "metadata": {
        "id": "view-in-github",
        "colab_type": "text"
      },
      "source": [
        "<a href=\"https://colab.research.google.com/github/TingyuLiang/SPINE_master/blob/master/GloVe.ipynb\" target=\"_parent\"><img src=\"https://colab.research.google.com/assets/colab-badge.svg\" alt=\"Open In Colab\"/></a>"
      ]
    },
    {
      "cell_type": "code",
      "metadata": {
        "id": "ERtcfqf_cune",
        "colab_type": "code",
        "outputId": "173acda4-6112-4020-d19a-f02638daf2b4",
        "colab": {
          "base_uri": "https://localhost:8080/",
          "height": 122
        }
      },
      "source": [
        "from google.colab import drive\n",
        "drive.mount('/content/drive')"
      ],
      "execution_count": 0,
      "outputs": [
        {
          "output_type": "stream",
          "text": [
            "Go to this URL in a browser: https://accounts.google.com/o/oauth2/auth?client_id=947318989803-6bn6qk8qdgf4n4g3pfee6491hc0brc4i.apps.googleusercontent.com&redirect_uri=urn%3Aietf%3Awg%3Aoauth%3A2.0%3Aoob&scope=email%20https%3A%2F%2Fwww.googleapis.com%2Fauth%2Fdocs.test%20https%3A%2F%2Fwww.googleapis.com%2Fauth%2Fdrive%20https%3A%2F%2Fwww.googleapis.com%2Fauth%2Fdrive.photos.readonly%20https%3A%2F%2Fwww.googleapis.com%2Fauth%2Fpeopleapi.readonly&response_type=code\n",
            "\n",
            "Enter your authorization code:\n",
            "··········\n",
            "Mounted at /content/drive\n"
          ],
          "name": "stdout"
        }
      ]
    },
    {
      "cell_type": "code",
      "metadata": {
        "id": "dTwGczloLcbr",
        "colab_type": "code",
        "outputId": "85ce525d-406b-49f8-a4bc-e8e8ed3791ba",
        "colab": {
          "base_uri": "https://localhost:8080/",
          "height": 1000
        }
      },
      "source": [
        "!python /content/drive/My\\ Drive/SPINE-master/code/model/main.py --input /content/drive/My\\ Drive/SPINE-master/test_0620/glove_original_15k_300d_train.txt --num_epochs 4000 --denoising --noise 0.4 --sparsity 0.85 --output /content/drive/My\\ Drive/SPINE-master/test_0620/glove_SPINE_output.txt --hdim 1000 --k 3 --batch_size 64"
      ],
      "execution_count": 0,
      "outputs": [
        {
          "output_type": "stream",
          "text": [
            "INFO:root:PARAMS = {'hdim': 1000, 'denoising': True, 'noise_level': 0.4, 'num_epochs': 4000, 'batch_size': 64, 'sparsity': 0.85, 'input': '/content/drive/My Drive/SPINE-master/test_0620/glove_original_15k_300d_train.txt', 'output': '/content/drive/My Drive/SPINE-master/test_0620/glove_SPINE_output.txt', 'k': 3}\n",
            "INFO:root:=========================================\n",
            "INFO:root:Loading data from /content/drive/My Drive/SPINE-master/test_0620/glove_original_15k_300d_train.txt\n",
            "INFO:root:Loaded data. #shape = (15000, 300)\n",
            "INFO:root: #words = 15000 \n",
            "DEBUG:root:original_data[0][0:5] = [ 0.04656    0.21318   -0.0074364 -0.45854   -0.035639 ]\n",
            "INFO:root:=========================================\n",
            "INFO:root:Building model \n",
            "INFO:root:=========================================\n",
            "After epoch 1, Reconstruction Loss = 33.7228, ASL = 0.0412,PSL = 17.2600, Local Loss = 37.5664 and total = 88.5904\n",
            "After epoch 2, Reconstruction Loss = 32.1338, ASL = 0.0228,PSL = 16.3288, Local Loss = 34.4664 and total = 82.9518\n",
            "After epoch 3, Reconstruction Loss = 31.2163, ASL = 0.0129,PSL = 15.5030, Local Loss = 32.0535 and total = 78.7856\n",
            "After epoch 4, Reconstruction Loss = 30.4400, ASL = 0.0076,PSL = 14.7458, Local Loss = 30.0714 and total = 75.2649\n",
            "After epoch 5, Reconstruction Loss = 29.7873, ASL = 0.0046,PSL = 14.0514, Local Loss = 28.3941 and total = 72.2374\n",
            "After epoch 6, Reconstruction Loss = 29.2390, ASL = 0.0031,PSL = 13.4220, Local Loss = 26.9797 and total = 69.6438\n",
            "After epoch 7, Reconstruction Loss = 28.7516, ASL = 0.0022,PSL = 12.8765, Local Loss = 26.0070 and total = 67.6372\n",
            "After epoch 8, Reconstruction Loss = 28.3402, ASL = 0.0017,PSL = 12.3660, Local Loss = 24.8521 and total = 65.5599\n",
            "After epoch 9, Reconstruction Loss = 27.9574, ASL = 0.0015,PSL = 11.8979, Local Loss = 23.9528 and total = 63.8096\n",
            "After epoch 10, Reconstruction Loss = 27.6132, ASL = 0.0013,PSL = 11.4867, Local Loss = 23.2588 and total = 62.3600\n",
            "After epoch 11, Reconstruction Loss = 27.2969, ASL = 0.0012,PSL = 11.1098, Local Loss = 22.6443 and total = 61.0523\n",
            "After epoch 12, Reconstruction Loss = 27.0282, ASL = 0.0012,PSL = 10.7555, Local Loss = 22.0875 and total = 59.8724\n",
            "After epoch 13, Reconstruction Loss = 26.7615, ASL = 0.0015,PSL = 10.4216, Local Loss = 21.5387 and total = 58.7233\n",
            "After epoch 14, Reconstruction Loss = 26.5243, ASL = 0.0017,PSL = 10.0989, Local Loss = 21.0442 and total = 57.6692\n",
            "After epoch 15, Reconstruction Loss = 26.2826, ASL = 0.0021,PSL = 9.8414, Local Loss = 20.6820 and total = 56.8081\n",
            "After epoch 16, Reconstruction Loss = 26.0829, ASL = 0.0024,PSL = 9.5935, Local Loss = 20.3378 and total = 56.0166\n",
            "After epoch 17, Reconstruction Loss = 25.8975, ASL = 0.0032,PSL = 9.3734, Local Loss = 20.1660 and total = 55.4401\n",
            "After epoch 18, Reconstruction Loss = 25.6984, ASL = 0.0038,PSL = 9.1319, Local Loss = 19.9077 and total = 54.7418\n",
            "After epoch 19, Reconstruction Loss = 25.5331, ASL = 0.0044,PSL = 8.9191, Local Loss = 19.6226 and total = 54.0792\n",
            "After epoch 20, Reconstruction Loss = 25.3587, ASL = 0.0055,PSL = 8.7394, Local Loss = 19.8213 and total = 53.9249\n",
            "After epoch 21, Reconstruction Loss = 25.1945, ASL = 0.0066,PSL = 8.5560, Local Loss = 19.7738 and total = 53.5309\n",
            "After epoch 22, Reconstruction Loss = 25.0701, ASL = 0.0074,PSL = 8.3661, Local Loss = 19.6120 and total = 53.0558\n",
            "After epoch 23, Reconstruction Loss = 24.9180, ASL = 0.0086,PSL = 8.2135, Local Loss = 20.0040 and total = 53.1442\n",
            "After epoch 24, Reconstruction Loss = 24.7665, ASL = 0.0100,PSL = 8.0772, Local Loss = 20.1352 and total = 52.9889\n",
            "After epoch 25, Reconstruction Loss = 24.6589, ASL = 0.0110,PSL = 7.9372, Local Loss = 20.4688 and total = 53.0760\n",
            "After epoch 26, Reconstruction Loss = 24.5299, ASL = 0.0120,PSL = 7.8019, Local Loss = 20.7578 and total = 53.1016\n",
            "After epoch 27, Reconstruction Loss = 24.4030, ASL = 0.0131,PSL = 7.6870, Local Loss = 21.2501 and total = 53.3532\n",
            "After epoch 28, Reconstruction Loss = 24.2972, ASL = 0.0141,PSL = 7.5599, Local Loss = 21.6343 and total = 53.5055\n",
            "After epoch 29, Reconstruction Loss = 24.1813, ASL = 0.0151,PSL = 7.4556, Local Loss = 21.8774 and total = 53.5294\n",
            "After epoch 30, Reconstruction Loss = 24.1018, ASL = 0.0157,PSL = 7.3142, Local Loss = 22.2665 and total = 53.6982\n",
            "After epoch 31, Reconstruction Loss = 23.9880, ASL = 0.0167,PSL = 7.2170, Local Loss = 22.8730 and total = 54.0948\n",
            "After epoch 32, Reconstruction Loss = 23.8935, ASL = 0.0169,PSL = 7.1239, Local Loss = 23.0784 and total = 54.1127\n",
            "After epoch 33, Reconstruction Loss = 23.8122, ASL = 0.0182,PSL = 7.0223, Local Loss = 23.8115 and total = 54.6643\n",
            "After epoch 34, Reconstruction Loss = 23.7104, ASL = 0.0188,PSL = 6.9299, Local Loss = 23.9750 and total = 54.6341\n",
            "After epoch 35, Reconstruction Loss = 23.6317, ASL = 0.0194,PSL = 6.8204, Local Loss = 24.4321 and total = 54.9037\n",
            "After epoch 36, Reconstruction Loss = 23.5255, ASL = 0.0200,PSL = 6.7409, Local Loss = 25.0320 and total = 55.3183\n",
            "After epoch 37, Reconstruction Loss = 23.4491, ASL = 0.0211,PSL = 6.6655, Local Loss = 25.5514 and total = 55.6871\n",
            "After epoch 38, Reconstruction Loss = 23.3687, ASL = 0.0216,PSL = 6.5732, Local Loss = 25.7598 and total = 55.7233\n",
            "After epoch 39, Reconstruction Loss = 23.2873, ASL = 0.0217,PSL = 6.5101, Local Loss = 26.0158 and total = 55.8349\n",
            "After epoch 40, Reconstruction Loss = 23.2014, ASL = 0.0222,PSL = 6.4371, Local Loss = 26.4050 and total = 56.0657\n",
            "After epoch 41, Reconstruction Loss = 23.1310, ASL = 0.0224,PSL = 6.3848, Local Loss = 26.8407 and total = 56.3789\n",
            "After epoch 42, Reconstruction Loss = 23.0457, ASL = 0.0236,PSL = 6.3122, Local Loss = 27.2753 and total = 56.6568\n",
            "After epoch 43, Reconstruction Loss = 22.9827, ASL = 0.0228,PSL = 6.2481, Local Loss = 27.5188 and total = 56.7723\n",
            "After epoch 44, Reconstruction Loss = 22.9054, ASL = 0.0243,PSL = 6.1882, Local Loss = 28.0711 and total = 57.1890\n",
            "After epoch 45, Reconstruction Loss = 22.8539, ASL = 0.0240,PSL = 6.1058, Local Loss = 28.4114 and total = 57.3952\n",
            "After epoch 46, Reconstruction Loss = 22.7870, ASL = 0.0246,PSL = 6.0591, Local Loss = 28.8277 and total = 57.6984\n",
            "After epoch 47, Reconstruction Loss = 22.7058, ASL = 0.0249,PSL = 6.0200, Local Loss = 28.9967 and total = 57.7475\n",
            "After epoch 48, Reconstruction Loss = 22.6312, ASL = 0.0254,PSL = 5.9608, Local Loss = 29.4232 and total = 58.0407\n",
            "After epoch 49, Reconstruction Loss = 22.5835, ASL = 0.0253,PSL = 5.8929, Local Loss = 29.5465 and total = 58.0482\n",
            "After epoch 50, Reconstruction Loss = 22.5187, ASL = 0.0261,PSL = 5.8451, Local Loss = 30.1246 and total = 58.5144\n",
            "After epoch 51, Reconstruction Loss = 22.4540, ASL = 0.0264,PSL = 5.8004, Local Loss = 30.5069 and total = 58.7877\n",
            "After epoch 52, Reconstruction Loss = 22.4029, ASL = 0.0264,PSL = 5.7513, Local Loss = 30.5682 and total = 58.7489\n",
            "After epoch 53, Reconstruction Loss = 22.3367, ASL = 0.0261,PSL = 5.7098, Local Loss = 30.6846 and total = 58.7572\n",
            "After epoch 54, Reconstruction Loss = 22.2706, ASL = 0.0269,PSL = 5.6611, Local Loss = 31.1757 and total = 59.1342\n",
            "After epoch 55, Reconstruction Loss = 22.2159, ASL = 0.0267,PSL = 5.6148, Local Loss = 31.3064 and total = 59.1638\n",
            "After epoch 56, Reconstruction Loss = 22.1762, ASL = 0.0270,PSL = 5.5729, Local Loss = 31.6119 and total = 59.3880\n",
            "After epoch 57, Reconstruction Loss = 22.1062, ASL = 0.0275,PSL = 5.5219, Local Loss = 31.7905 and total = 59.4461\n",
            "After epoch 58, Reconstruction Loss = 22.0610, ASL = 0.0274,PSL = 5.4770, Local Loss = 32.0490 and total = 59.6144\n",
            "After epoch 59, Reconstruction Loss = 21.9958, ASL = 0.0277,PSL = 5.4465, Local Loss = 32.4742 and total = 59.9443\n",
            "After epoch 60, Reconstruction Loss = 21.9534, ASL = 0.0277,PSL = 5.4054, Local Loss = 32.5791 and total = 59.9656\n",
            "After epoch 61, Reconstruction Loss = 21.8994, ASL = 0.0280,PSL = 5.3637, Local Loss = 32.9281 and total = 60.2192\n",
            "After epoch 62, Reconstruction Loss = 21.8324, ASL = 0.0284,PSL = 5.3429, Local Loss = 33.0730 and total = 60.2767\n",
            "After epoch 63, Reconstruction Loss = 21.7821, ASL = 0.0283,PSL = 5.2993, Local Loss = 33.2624 and total = 60.3721\n",
            "After epoch 64, Reconstruction Loss = 21.7355, ASL = 0.0285,PSL = 5.2602, Local Loss = 33.4718 and total = 60.4959\n",
            "After epoch 65, Reconstruction Loss = 21.6889, ASL = 0.0283,PSL = 5.2253, Local Loss = 33.6147 and total = 60.5572\n",
            "After epoch 66, Reconstruction Loss = 21.6567, ASL = 0.0286,PSL = 5.1970, Local Loss = 34.0406 and total = 60.9229\n",
            "After epoch 67, Reconstruction Loss = 21.5995, ASL = 0.0290,PSL = 5.1454, Local Loss = 33.9432 and total = 60.7170\n",
            "After epoch 68, Reconstruction Loss = 21.5371, ASL = 0.0285,PSL = 5.1438, Local Loss = 34.3242 and total = 61.0337\n",
            "After epoch 69, Reconstruction Loss = 21.5046, ASL = 0.0287,PSL = 5.1044, Local Loss = 34.3667 and total = 61.0043\n",
            "After epoch 70, Reconstruction Loss = 21.4466, ASL = 0.0284,PSL = 5.0817, Local Loss = 34.5639 and total = 61.1207\n",
            "After epoch 71, Reconstruction Loss = 21.4004, ASL = 0.0291,PSL = 5.0635, Local Loss = 34.6806 and total = 61.1736\n",
            "After epoch 72, Reconstruction Loss = 21.3590, ASL = 0.0287,PSL = 5.0194, Local Loss = 34.6483 and total = 61.0555\n",
            "After epoch 73, Reconstruction Loss = 21.2993, ASL = 0.0287,PSL = 5.0122, Local Loss = 34.8902 and total = 61.2304\n",
            "After epoch 74, Reconstruction Loss = 21.2847, ASL = 0.0289,PSL = 4.9649, Local Loss = 35.3036 and total = 61.5820\n",
            "After epoch 75, Reconstruction Loss = 21.2148, ASL = 0.0287,PSL = 4.9355, Local Loss = 34.9793 and total = 61.1583\n",
            "After epoch 76, Reconstruction Loss = 21.1831, ASL = 0.0288,PSL = 4.9081, Local Loss = 35.5630 and total = 61.6830\n",
            "After epoch 77, Reconstruction Loss = 21.1323, ASL = 0.0289,PSL = 4.8892, Local Loss = 35.3972 and total = 61.4476\n",
            "After epoch 78, Reconstruction Loss = 21.0965, ASL = 0.0283,PSL = 4.8804, Local Loss = 35.4001 and total = 61.4053\n",
            "After epoch 79, Reconstruction Loss = 21.0724, ASL = 0.0290,PSL = 4.8120, Local Loss = 35.5209 and total = 61.4342\n",
            "After epoch 80, Reconstruction Loss = 21.0154, ASL = 0.0289,PSL = 4.8231, Local Loss = 35.6607 and total = 61.5280\n",
            "After epoch 81, Reconstruction Loss = 20.9795, ASL = 0.0287,PSL = 4.8005, Local Loss = 35.5895 and total = 61.3982\n",
            "After epoch 82, Reconstruction Loss = 20.9391, ASL = 0.0289,PSL = 4.7594, Local Loss = 36.0513 and total = 61.7787\n",
            "After epoch 83, Reconstruction Loss = 20.9023, ASL = 0.0290,PSL = 4.7401, Local Loss = 36.1089 and total = 61.7803\n",
            "After epoch 84, Reconstruction Loss = 20.8531, ASL = 0.0290,PSL = 4.7195, Local Loss = 36.2991 and total = 61.9007\n",
            "After epoch 85, Reconstruction Loss = 20.7988, ASL = 0.0288,PSL = 4.7157, Local Loss = 36.5123 and total = 62.0556\n",
            "After epoch 86, Reconstruction Loss = 20.7805, ASL = 0.0289,PSL = 4.6768, Local Loss = 36.4226 and total = 61.9087\n"
          ],
          "name": "stdout"
        }
      ]
    }
  ]
}